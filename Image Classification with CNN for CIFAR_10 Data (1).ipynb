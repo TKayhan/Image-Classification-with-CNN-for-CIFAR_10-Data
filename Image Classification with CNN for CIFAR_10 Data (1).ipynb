{
 "cells": [
  {
   "cell_type": "markdown",
   "id": "679df2cf",
   "metadata": {},
   "source": [
    "# Image Classification with CNN for CIFAR_10 Data"
   ]
  },
  {
   "cell_type": "code",
   "execution_count": 1,
   "id": "1dc8f415",
   "metadata": {},
   "outputs": [],
   "source": [
    "import numpy as np\n",
    "import matplotlib.pyplot as plt\n",
    "%matplotlib inline\n",
    "import keras\n",
    "import tensorflow as tf\n",
    "\n",
    "from tensorflow import keras\n",
    "from keras.models import Sequential\n",
    "from tensorflow.keras.layers import Input, Conv2D, Dense, Flatten, Dropout\n",
    "from tensorflow.keras.layers import GlobalMaxPooling2D, MaxPooling2D\n",
    "from tensorflow.keras.layers import BatchNormalization\n",
    "from tensorflow.keras.models import Model\n",
    "from tensorflow.keras import regularizers, optimizers\n",
    "from tensorflow.keras.utils import to_categorical\n",
    "from sklearn.metrics import accuracy_score\n",
    "\n",
    "import warnings\n",
    "warnings.filterwarnings('ignore')"
   ]
  },
  {
   "cell_type": "code",
   "execution_count": 2,
   "id": "7afffb9a",
   "metadata": {},
   "outputs": [],
   "source": [
    "from tensorflow.keras.datasets import cifar10\n",
    "(x_train, y_train), (x_test, y_test) = cifar10.load_data()"
   ]
  },
  {
   "cell_type": "code",
   "execution_count": 3,
   "id": "e8a3f3e9",
   "metadata": {},
   "outputs": [
    {
     "data": {
      "text/plain": [
       "((50000, 32, 32, 3), (50000, 1), (10000, 32, 32, 3), (10000, 1))"
      ]
     },
     "execution_count": 3,
     "metadata": {},
     "output_type": "execute_result"
    }
   ],
   "source": [
    "x_train.shape, y_train.shape, x_test.shape, y_test.shape"
   ]
  },
  {
   "cell_type": "code",
   "execution_count": 4,
   "id": "72c381cf",
   "metadata": {},
   "outputs": [],
   "source": [
    "import matplotlib.pyplot as plt"
   ]
  },
  {
   "cell_type": "code",
   "execution_count": 5,
   "id": "099b0fb7",
   "metadata": {},
   "outputs": [
    {
     "data": {
      "text/plain": [
       "<matplotlib.image.AxesImage at 0x2c084b880>"
      ]
     },
     "execution_count": 5,
     "metadata": {},
     "output_type": "execute_result"
    },
    {
     "data": {
      "image/png": "[encoded data removed]",
      "text/plain": [
       "<Figure size 640x480 with 1 Axes>"
      ]
     },
     "metadata": {},
     "output_type": "display_data"
    }
   ],
   "source": [
    "plt.imshow(x_train[0],cmap=\"gray\")"
   ]
  },
  {
   "cell_type": "code",
   "execution_count": 6,
   "id": "eeec6e03",
   "metadata": {},
   "outputs": [
    {
     "data": {
      "text/plain": [
       "<matplotlib.image.AxesImage at 0x2cd6dc4f0>"
      ]
     },
     "execution_count": 6,
     "metadata": {},
     "output_type": "execute_result"
    },
    {
     "data": {
      "image/png": "[encoded data removed]",
      "text/plain": [
       "<Figure size 640x480 with 1 Axes>"
      ]
     },
     "metadata": {},
     "output_type": "display_data"
    }
   ],
   "source": [
    "plt.imshow(x_train[500],cmap=\"gray\")"
   ]
  },
  {
   "cell_type": "code",
   "execution_count": 7,
   "id": "6b2e6949",
   "metadata": {},
   "outputs": [],
   "source": [
    "#normalize/standardize\n",
    "x_train=x_train/255\n",
    "x_test=x_test/255"
   ]
  },
  {
   "cell_type": "code",
   "execution_count": 8,
   "id": "f21f0fe9",
   "metadata": {},
   "outputs": [],
   "source": [
    "# One-Hot-Encoding\n",
    "y_train_en = to_categorical(y_train,10)\n",
    "y_test_en = to_categorical(y_test,10)"
   ]
  },
  {
   "cell_type": "code",
   "execution_count": 9,
   "id": "e2991817",
   "metadata": {},
   "outputs": [],
   "source": [
    "from tensorflow.keras.models import Sequential\n",
    "from tensorflow.keras.layers import Dense, Conv2D, MaxPooling2D, Flatten,InputLayer,Reshape"
   ]
  },
  {
   "cell_type": "code",
   "execution_count": 10,
   "id": "d172a93f",
   "metadata": {},
   "outputs": [],
   "source": [
    "model = Sequential()\n",
    "model.add(Conv2D(32,(4,4),input_shape = (32,32,3),activation=\"relu\"))\n",
    "model.add(MaxPooling2D(pool_size = (2,2)))\n",
    "model.add(Conv2D(32,(4,4),input_shape = (32,32,3),activation=\"relu\"))\n",
    "model.add(MaxPooling2D(pool_size = (2,2)))\n",
    "model.add(Flatten())\n",
    "model.add(Dense(128, activation =\"relu\"))\n",
    "model.add(Dense(10, activation =\"softmax\"))\n",
    "model.compile(loss =\"categorical_crossentropy\", optimizer =\"adam\", metrics =[\"accuracy\"])"
   ]
  },
  {
   "cell_type": "code",
   "execution_count": 11,
   "id": "bb98e6cb",
   "metadata": {},
   "outputs": [],
   "source": [
    "from tensorflow.keras.callbacks import EarlyStopping"
   ]
  },
  {
   "cell_type": "code",
   "execution_count": 12,
   "id": "2f398dda",
   "metadata": {},
   "outputs": [],
   "source": [
    "early_stop = EarlyStopping(monitor = \"val_loss\", patience = 2)"
   ]
  },
  {
   "cell_type": "code",
   "execution_count": 14,
   "id": "e7e3026f",
   "metadata": {},
   "outputs": [
    {
     "name": "stdout",
     "output_type": "stream",
     "text": [
      "Epoch 1/15\n",
      "1563/1563 [==============================] - 10s 6ms/step - loss: 1.5126 - accuracy: 0.4513 - val_loss: 1.2879 - val_accuracy: 0.5392\n",
      "Epoch 2/15\n",
      "1563/1563 [==============================] - 10s 6ms/step - loss: 1.1872 - accuracy: 0.5793 - val_loss: 1.1334 - val_accuracy: 0.6041\n",
      "Epoch 3/15\n",
      "1563/1563 [==============================] - 10s 6ms/step - loss: 1.0523 - accuracy: 0.6322 - val_loss: 1.0594 - val_accuracy: 0.6262\n",
      "Epoch 4/15\n",
      "1563/1563 [==============================] - 10s 6ms/step - loss: 0.9551 - accuracy: 0.6664 - val_loss: 0.9963 - val_accuracy: 0.6530\n",
      "Epoch 5/15\n",
      "1563/1563 [==============================] - 10s 6ms/step - loss: 0.8821 - accuracy: 0.6939 - val_loss: 0.9920 - val_accuracy: 0.6560\n",
      "Epoch 6/15\n",
      "1563/1563 [==============================] - 10s 6ms/step - loss: 0.8186 - accuracy: 0.7166 - val_loss: 0.9602 - val_accuracy: 0.6685\n",
      "Epoch 7/15\n",
      "1563/1563 [==============================] - 10s 6ms/step - loss: 0.7622 - accuracy: 0.7329 - val_loss: 0.9473 - val_accuracy: 0.6694\n",
      "Epoch 8/15\n",
      "1563/1563 [==============================] - 10s 6ms/step - loss: 0.7111 - accuracy: 0.7523 - val_loss: 0.9539 - val_accuracy: 0.6769\n",
      "Epoch 9/15\n",
      "1563/1563 [==============================] - 10s 6ms/step - loss: 0.6624 - accuracy: 0.7687 - val_loss: 1.0428 - val_accuracy: 0.6578\n"
     ]
    },
    {
     "data": {
      "text/plain": [
       "<keras.src.callbacks.History at 0x2cd92c910>"
      ]
     },
     "execution_count": 14,
     "metadata": {},
     "output_type": "execute_result"
    }
   ],
   "source": [
    "\n",
    "model.fit(x_train, y_train_en, validation_data = (x_test, y_test_en), epochs = 15, callbacks = [early_stop])"
   ]
  },
  {
   "cell_type": "code",
   "execution_count": 15,
   "id": "e58e8a8f",
   "metadata": {},
   "outputs": [],
   "source": [
    " \n",
    "model_1 = Sequential()\n",
    "model_1.add(Conv2D(64,(4,4),input_shape=(32,32,3),activation=\"relu\"))\n",
    "model_1.add(MaxPooling2D(pool_size=(2,2)))\n",
    "model_1.add(Dropout(0.5))\n",
    "model_1.add(Conv2D(64,(4,4),input_shape=(32,32,3),activation=\"relu\"))\n",
    "model_1.add(MaxPooling2D(pool_size=(2,2)))\n",
    "model_1.add(Dropout(0.25))\n",
    "model_1.add(Flatten())\n",
    "model_1.add(Dense(256,activation=\"relu\"))\n",
    "model_1.add(Dense(10,activation=\"softmax\"))\n",
    "model_1.compile(loss=\"categorical_crossentropy\",optimizer=\"adam\",metrics=[\"accuracy\"])"
   ]
  },
  {
   "cell_type": "code",
   "execution_count": 16,
   "id": "306ff215",
   "metadata": {},
   "outputs": [
    {
     "name": "stdout",
     "output_type": "stream",
     "text": [
      "Epoch 1/15\n",
      "1563/1563 [==============================] - 10s 6ms/step - loss: 0.6177 - accuracy: 0.7833 - val_loss: 1.0244 - val_accuracy: 0.6719\n",
      "Epoch 2/15\n",
      "1563/1563 [==============================] - 10s 6ms/step - loss: 0.5795 - accuracy: 0.7971 - val_loss: 1.0478 - val_accuracy: 0.6752\n",
      "Epoch 3/15\n",
      "1563/1563 [==============================] - 10s 6ms/step - loss: 0.5320 - accuracy: 0.8142 - val_loss: 1.0569 - val_accuracy: 0.6811\n"
     ]
    },
    {
     "data": {
      "text/plain": [
       "<keras.src.callbacks.History at 0x2c3d14790>"
      ]
     },
     "execution_count": 16,
     "metadata": {},
     "output_type": "execute_result"
    }
   ],
   "source": [
    "model.fit(x_train, y_train_en, validation_data = (x_test, y_test_en), epochs = 15, callbacks = [early_stop])"
   ]
  },
  {
   "cell_type": "code",
   "execution_count": 17,
   "id": "3521e2d0",
   "metadata": {},
   "outputs": [],
   "source": [
    "\n",
    "model_2 = Sequential()\n",
    "model_2.add(Conv2D(64,(4,4),input_shape=(32,32,3),activation=\"relu\"))\n",
    "model_2.add(Conv2D(64,(4,4),input_shape=(32,32,3),activation=\"relu\"))\n",
    "model_2.add(MaxPooling2D(pool_size=(2,2)))\n",
    "model_2.add(Dropout(0.4))\n",
    "model_2.add(Conv2D(128,(4,4),input_shape=(32,32,3),activation=\"relu\"))\n",
    "model_2.add(Conv2D(128,(4,4),input_shape=(32,32,3),activation=\"relu\"))\n",
    "model_2.add(MaxPooling2D(pool_size=(2,2)))\n",
    "model_2.add(Dropout(0.4))\n",
    "model_2.add(Flatten())\n",
    "model_2.add(Dense(1024,activation=\"relu\"))\n",
    "model_2.add(Dense(1024,activation=\"relu\"))\n",
    "model_2.add(Dense(units = 1, activation = \"softmax\"))\n",
    "model_2.compile(loss=\"categorical_crossentropy\",optimizer=\"adam\",metrics=[\"accuracy\"])"
   ]
  },
  {
   "cell_type": "code",
   "execution_count": 18,
   "id": "22364699",
   "metadata": {},
   "outputs": [
    {
     "name": "stdout",
     "output_type": "stream",
     "text": [
      "Epoch 1/15\n",
      "1563/1563 [==============================] - 9s 6ms/step - loss: 0.4987 - accuracy: 0.8263 - val_loss: 1.0821 - val_accuracy: 0.6708\n",
      "Epoch 2/15\n",
      "1563/1563 [==============================] - 9s 6ms/step - loss: 0.4607 - accuracy: 0.8389 - val_loss: 1.1671 - val_accuracy: 0.6746\n",
      "Epoch 3/15\n",
      "1563/1563 [==============================] - 9s 6ms/step - loss: 0.4297 - accuracy: 0.8463 - val_loss: 1.1930 - val_accuracy: 0.6757\n"
     ]
    },
    {
     "data": {
      "text/plain": [
       "<keras.src.callbacks.History at 0x2c3ad71c0>"
      ]
     },
     "execution_count": 18,
     "metadata": {},
     "output_type": "execute_result"
    }
   ],
   "source": [
    "model.fit(x_train, y_train_en, validation_data = (x_test, y_test_en), epochs = 15, callbacks = [early_stop])"
   ]
  },
  {
   "cell_type": "code",
   "execution_count": 20,
   "id": "78475e35",
   "metadata": {},
   "outputs": [],
   "source": [
    "import pandas as pd\n",
    "metrics = pd.DataFrame(model.history.history)"
   ]
  },
  {
   "cell_type": "code",
   "execution_count": 21,
   "id": "68e392f8",
   "metadata": {},
   "outputs": [
    {
     "data": {
      "text/html": [
       "<div>\n",
       "<style scoped>\n",
       "    .dataframe tbody tr th:only-of-type {\n",
       "        vertical-align: middle;\n",
       "    }\n",
       "\n",
       "    .dataframe tbody tr th {\n",
       "        vertical-align: top;\n",
       "    }\n",
       "\n",
       "    .dataframe thead th {\n",
       "        text-align: right;\n",
       "    }\n",
       "</style>\n",
       "<table border=\"1\" class=\"dataframe\">\n",
       "  <thead>\n",
       "    <tr style=\"text-align: right;\">\n",
       "      <th></th>\n",
       "      <th>loss</th>\n",
       "      <th>accuracy</th>\n",
       "      <th>val_loss</th>\n",
       "      <th>val_accuracy</th>\n",
       "    </tr>\n",
       "  </thead>\n",
       "  <tbody>\n",
       "    <tr>\n",
       "      <th>0</th>\n",
       "      <td>0.498708</td>\n",
       "      <td>0.82626</td>\n",
       "      <td>1.082089</td>\n",
       "      <td>0.6708</td>\n",
       "    </tr>\n",
       "    <tr>\n",
       "      <th>1</th>\n",
       "      <td>0.460716</td>\n",
       "      <td>0.83888</td>\n",
       "      <td>1.167055</td>\n",
       "      <td>0.6746</td>\n",
       "    </tr>\n",
       "    <tr>\n",
       "      <th>2</th>\n",
       "      <td>0.429734</td>\n",
       "      <td>0.84626</td>\n",
       "      <td>1.192991</td>\n",
       "      <td>0.6757</td>\n",
       "    </tr>\n",
       "  </tbody>\n",
       "</table>\n",
       "</div>"
      ],
      "text/plain": [
       "       loss  accuracy  val_loss  val_accuracy\n",
       "0  0.498708   0.82626  1.082089        0.6708\n",
       "1  0.460716   0.83888  1.167055        0.6746\n",
       "2  0.429734   0.84626  1.192991        0.6757"
      ]
     },
     "execution_count": 21,
     "metadata": {},
     "output_type": "execute_result"
    }
   ],
   "source": [
    "metrics"
   ]
  },
  {
   "cell_type": "code",
   "execution_count": 22,
   "id": "582deabb",
   "metadata": {},
   "outputs": [
    {
     "data": {
      "text/plain": [
       "Index(['loss', 'accuracy', 'val_loss', 'val_accuracy'], dtype='object')"
      ]
     },
     "execution_count": 22,
     "metadata": {},
     "output_type": "execute_result"
    }
   ],
   "source": [
    "metrics.columns"
   ]
  },
  {
   "cell_type": "code",
   "execution_count": 23,
   "id": "9fa7b668",
   "metadata": {},
   "outputs": [
    {
     "data": {
      "text/plain": [
       "<Axes: >"
      ]
     },
     "execution_count": 23,
     "metadata": {},
     "output_type": "execute_result"
    },
    {
     "data": {
      "image/png": "[encoded data removed]",
      "text/plain": [
       "<Figure size 640x480 with 1 Axes>"
      ]
     },
     "metadata": {},
     "output_type": "display_data"
    }
   ],
   "source": [
    "metrics[[\"accuracy\", \"val_accuracy\"]].plot()"
   ]
  },
  {
   "cell_type": "code",
   "execution_count": 24,
   "id": "15055cb6",
   "metadata": {},
   "outputs": [
    {
     "data": {
      "text/plain": [
       "<Axes: >"
      ]
     },
     "execution_count": 24,
     "metadata": {},
     "output_type": "execute_result"
    },
    {
     "data": {
      "image/png": "[encoded data removed]",
      "text/plain": [
       "<Figure size 640x480 with 1 Axes>"
      ]
     },
     "metadata": {},
     "output_type": "display_data"
    }
   ],
   "source": [
    "metrics[[\"loss\", \"val_loss\"]].plot()"
   ]
  },
  {
   "cell_type": "code",
   "execution_count": null,
   "id": "c914b509",
   "metadata": {},
   "outputs": [],
   "source": []
  },
  {
   "cell_type": "code",
   "execution_count": null,
   "id": "a23ca77f",
   "metadata": {},
   "outputs": [],
   "source": []
  },
  {
   "cell_type": "code",
   "execution_count": null,
   "id": "f8be78a6",
   "metadata": {},
   "outputs": [],
   "source": []
  },
  {
   "cell_type": "code",
   "execution_count": null,
   "id": "337660ec",
   "metadata": {},
   "outputs": [],
   "source": []
  },
  {
   "cell_type": "code",
   "execution_count": null,
   "id": "94191503",
   "metadata": {},
   "outputs": [],
   "source": []
  },
  {
   "cell_type": "code",
   "execution_count": null,
   "id": "f08d2603",
   "metadata": {},
   "outputs": [],
   "source": []
  },
  {
   "cell_type": "code",
   "execution_count": null,
   "id": "a85783ee",
   "metadata": {},
   "outputs": [],
   "source": []
  },
  {
   "cell_type": "code",
   "execution_count": null,
   "id": "6a8355f5",
   "metadata": {},
   "outputs": [],
   "source": []
  },
  {
   "cell_type": "code",
   "execution_count": null,
   "id": "f1230329",
   "metadata": {},
   "outputs": [],
   "source": []
  },
  {
   "cell_type": "code",
   "execution_count": null,
   "id": "a500c7c6",
   "metadata": {},
   "outputs": [],
   "source": []
  },
  {
   "cell_type": "code",
   "execution_count": null,
   "id": "fe49b9c1",
   "metadata": {},
   "outputs": [],
   "source": []
  },
  {
   "cell_type": "code",
   "execution_count": null,
   "id": "f5210a1e",
   "metadata": {},
   "outputs": [],
   "source": []
  }
 ],
 "metadata": {
  "kernelspec": {
   "display_name": "Python 3 (ipykernel)",
   "language": "python",
   "name": "python3"
  },
  "language_info": {
   "codemirror_mode": {
    "name": "ipython",
    "version": 3
   },
   "file_extension": ".py",
   "mimetype": "text/x-python",
   "name": "python",
   "nbconvert_exporter": "python",
   "pygments_lexer": "ipython3",
   "version": "3.10.9"
  }
 },
 "nbformat": 4,
 "nbformat_minor": 5
}
